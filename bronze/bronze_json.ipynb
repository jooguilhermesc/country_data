{
 "cells": [
  {
   "cell_type": "code",
   "execution_count": 0,
   "metadata": {
    "application/vnd.databricks.v1+cell": {
     "cellMetadata": {
      "byteLimit": 2048000,
      "rowLimit": 10000
     },
     "inputWidgets": {},
     "nuid": "3f8e3c82-b390-4e38-960b-9a686ba28634",
     "showTitle": true,
     "tableResultSettingsMap": {},
     "title": "Load and Save JSON Data to Spark Table"
    }
   },
   "outputs": [],
   "source": [
    "df = spark.read.option(\"multiline\", \"true\").json(\"/Volumes/country_data/bronze/landing_zone/continent.json\")\n",
    "df.write.mode(\"overwrite\").saveAsTable(\"country_data.bronze.continent\")"
   ]
  },
  {
   "cell_type": "code",
   "execution_count": 0,
   "metadata": {
    "application/vnd.databricks.v1+cell": {
     "cellMetadata": {
      "byteLimit": 2048000,
      "rowLimit": 10000
     },
     "inputWidgets": {},
     "nuid": "f989d4c5-aea4-4d2d-80fe-8791ca2c21d7",
     "showTitle": true,
     "tableResultSettingsMap": {},
     "title": "Load and Save Currency Data to Bronze Table"
    }
   },
   "outputs": [],
   "source": [
    "df = spark.read.option(\"multiline\", \"true\").json(\"/Volumes/country_data/bronze/landing_zone/currency.json\")\n",
    "df.write.mode(\"overwrite\").saveAsTable(\"country_data.bronze.currency\")"
   ]
  },
  {
   "cell_type": "code",
   "execution_count": 0,
   "metadata": {
    "application/vnd.databricks.v1+cell": {
     "cellMetadata": {
      "byteLimit": 2048000,
      "rowLimit": 10000
     },
     "inputWidgets": {},
     "nuid": "fb355877-278e-4be4-8dbb-103c246f3f48",
     "showTitle": true,
     "tableResultSettingsMap": {},
     "title": "Load and Save to Bronze ISO3 Table"
    }
   },
   "outputs": [],
   "source": [
    "df = spark.read.option(\"multiline\", \"true\").json(\"/Volumes/country_data/bronze/landing_zone/iso3.json\")\n",
    "df.write.mode(\"overwrite\").saveAsTable(\"country_data.bronze.iso3\")"
   ]
  },
  {
   "cell_type": "code",
   "execution_count": 0,
   "metadata": {
    "application/vnd.databricks.v1+cell": {
     "cellMetadata": {
      "byteLimit": 2048000,
      "rowLimit": 10000
     },
     "inputWidgets": {},
     "nuid": "80bd7209-b717-4b9c-b7ae-6f574be7b166",
     "showTitle": true,
     "tableResultSettingsMap": {},
     "title": "Load and Save Country Data to Bronze Table"
    }
   },
   "outputs": [],
   "source": [
    "df = spark.read.option(\"multiline\", \"true\").json(\"/Volumes/country_data/bronze/landing_zone/names.json\")\n",
    "df.write.mode(\"overwrite\").saveAsTable(\"country_data.bronze.names\")"
   ]
  },
  {
   "cell_type": "code",
   "execution_count": 0,
   "metadata": {
    "application/vnd.databricks.v1+cell": {
     "cellMetadata": {
      "byteLimit": 2048000,
      "rowLimit": 10000
     },
     "inputWidgets": {},
     "nuid": "eb5de715-fa86-4767-96cf-5e095c15b580",
     "showTitle": true,
     "tableResultSettingsMap": {},
     "title": "Load and Save Phone JSON to Bronze Table"
    }
   },
   "outputs": [],
   "source": [
    "df = spark.read.option(\"multiline\", \"true\").json(\"/Volumes/country_data/bronze/landing_zone/phone.json\")\n",
    "df.write.mode(\"overwrite\").saveAsTable(\"country_data.bronze.phone\")"
   ]
  }
 ],
 "metadata": {
  "application/vnd.databricks.v1+notebook": {
   "computePreferences": {
    "hardware": {
     "accelerator": null,
     "gpuPoolId": null,
     "memory": null
    }
   },
   "dashboards": [],
   "environmentMetadata": {
    "base_environment": "",
    "environment_version": "3"
   },
   "inputWidgetPreferences": null,
   "language": "python",
   "notebookMetadata": {
    "pythonIndentUnit": 4
   },
   "notebookName": "bronze_json",
   "widgets": {}
  },
  "language_info": {
   "name": "python"
  }
 },
 "nbformat": 4,
 "nbformat_minor": 0
}
