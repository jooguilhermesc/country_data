{
 "cells": [
  {
   "cell_type": "code",
   "execution_count": 0,
   "metadata": {
    "application/vnd.databricks.v1+cell": {
     "cellMetadata": {
      "byteLimit": 2048000,
      "rowLimit": 10000
     },
     "inputWidgets": {},
     "nuid": "f467e80f-407a-4bcf-a572-61bae08b2f8b",
     "showTitle": false,
     "tableResultSettingsMap": {},
     "title": ""
    }
   },
   "outputs": [],
   "source": [
    "import pyspark.pandas as ps\n",
    "from pyspark.sql.functions import lit, col"
   ]
  },
  {
   "cell_type": "code",
   "execution_count": 0,
   "metadata": {
    "application/vnd.databricks.v1+cell": {
     "cellMetadata": {
      "byteLimit": 2048000,
      "rowLimit": 10000
     },
     "inputWidgets": {},
     "nuid": "8201cd18-71fa-4125-a067-2be89a564f15",
     "showTitle": false,
     "tableResultSettingsMap": {},
     "title": ""
    }
   },
   "outputs": [],
   "source": [
    "df = spark.read.table(\"country_data.bronze.continent\")\n",
    "df_transposed = df.to_pandas_on_spark().T.reset_index().to_spark()\n",
    "df_renamed = df_transposed.withColumnRenamed(\"index\", \"country_id\").withColumnRenamed(\"0\", \"continent_id\")\n",
    "df_renamed.write.mode(\"overwrite\").saveAsTable(\"country_data.prata.continent\")"
   ]
  },
  {
   "cell_type": "code",
   "execution_count": 0,
   "metadata": {
    "application/vnd.databricks.v1+cell": {
     "cellMetadata": {
      "byteLimit": 2048000,
      "rowLimit": 10000
     },
     "inputWidgets": {},
     "nuid": "4f7ab448-2edb-4dd1-aabc-35c9a3b16da4",
     "showTitle": false,
     "tableResultSettingsMap": {},
     "title": ""
    }
   },
   "outputs": [],
   "source": [
    "df = spark.read.table(\"country_data.bronze.currency\")\n",
    "df_transposed = df.to_pandas_on_spark().T.reset_index().to_spark()\n",
    "df_renamed = df_transposed.withColumnRenamed(\"index\", \"country_id\").withColumnRenamed(\"0\", \"currency_name\")\n",
    "df_renamed.write.mode(\"overwrite\").saveAsTable(\"country_data.prata.currency\")"
   ]
  },
  {
   "cell_type": "code",
   "execution_count": 0,
   "metadata": {
    "application/vnd.databricks.v1+cell": {
     "cellMetadata": {
      "byteLimit": 2048000,
      "rowLimit": 10000
     },
     "inputWidgets": {},
     "nuid": "307de1d9-01ef-4e95-b2a0-78e5712a8c0c",
     "showTitle": false,
     "tableResultSettingsMap": {},
     "title": ""
    }
   },
   "outputs": [],
   "source": [
    "df = spark.read.table(\"country_data.bronze.iso3\")\n",
    "df_transposed = df.to_pandas_on_spark().T.reset_index().to_spark()\n",
    "df_renamed = df_transposed.withColumnRenamed(\"index\", \"country_id\").withColumnRenamed(\"0\", \"iso3_id\")\n",
    "df_renamed.write.mode(\"overwrite\").saveAsTable(\"country_data.prata.iso3\")"
   ]
  },
  {
   "cell_type": "code",
   "execution_count": 0,
   "metadata": {
    "application/vnd.databricks.v1+cell": {
     "cellMetadata": {
      "byteLimit": 2048000,
      "rowLimit": 10000
     },
     "inputWidgets": {},
     "nuid": "1a4a6bb1-930a-4f38-a44f-276462ee26cf",
     "showTitle": false,
     "tableResultSettingsMap": {},
     "title": ""
    }
   },
   "outputs": [],
   "source": [
    "df = spark.read.table(\"country_data.bronze.names\")\n",
    "df_transposed = df.to_pandas_on_spark().T.reset_index().to_spark()\n",
    "df_renamed = df_transposed.withColumnRenamed(\"index\", \"country_id\").withColumnRenamed(\"0\", \"country_name\")\n",
    "df_renamed.write.mode(\"overwrite\").saveAsTable(\"country_data.prata.names\")"
   ]
  },
  {
   "cell_type": "code",
   "execution_count": 0,
   "metadata": {
    "application/vnd.databricks.v1+cell": {
     "cellMetadata": {
      "byteLimit": 2048000,
      "rowLimit": 10000
     },
     "inputWidgets": {},
     "nuid": "1c94516f-4b7c-4049-af9c-45261733ab60",
     "showTitle": false,
     "tableResultSettingsMap": {},
     "title": ""
    }
   },
   "outputs": [],
   "source": [
    "df = spark.read.table(\"country_data.bronze.phone\")\n",
    "df_transposed = df.to_pandas_on_spark().T.reset_index().to_spark()\n",
    "df_renamed = df_transposed.withColumnRenamed(\"index\", \"country_id\").withColumnRenamed(\"0\", \"phone_code\")\n",
    "df_renamed.write.mode(\"overwrite\").saveAsTable(\"country_data.prata.phone\")"
   ]
  }
 ],
 "metadata": {
  "application/vnd.databricks.v1+notebook": {
   "computePreferences": null,
   "dashboards": [],
   "environmentMetadata": {
    "base_environment": "",
    "environment_version": "2"
   },
   "inputWidgetPreferences": null,
   "language": "python",
   "notebookMetadata": {
    "mostRecentlyExecutedCommandWithImplicitDF": {
     "commandId": 6872708476909101,
     "dataframes": [
      "_sqldf"
     ]
    },
    "pythonIndentUnit": 4
   },
   "notebookName": "prata_normalizacao",
   "widgets": {}
  },
  "language_info": {
   "name": "python"
  }
 },
 "nbformat": 4,
 "nbformat_minor": 0
}
